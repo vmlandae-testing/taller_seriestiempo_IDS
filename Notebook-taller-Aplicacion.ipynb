{
  "cells": [
    {
      "cell_type": "markdown",
      "metadata": {
        "id": "ubf91HjK8uj5"
      },
      "source": [
        "# Actividad Evaluada Taller de Series de Tiempo\n",
        "\n",
        "NOMBRE: \n",
        "\n",
        "Correo electrónico:\n",
        "\n"
      ]
    },
    {
      "cell_type": "markdown",
      "metadata": {
        "id": "1aerLDlz8uj-"
      },
      "source": [
        "# Instrucciones\n",
        "\n",
        "- Desarrolle en un notebook los siguientes análisis, este puede ser de **manera individual o en grupo de hasta 3 personas**.\n",
        "- Realice una copia de este acrvivo, cambiele el nombre y edítela directamente.\n",
        "- Apóyese en el resto de material disponible, si tiene dudas puede realizarlas al correo  moyarzunw@udd.cl con el asunto \"Dudas taller series de tiempo IDS\"\n",
        "- La **entrega** es hasta el día jueves 16 DIC en el correo: moyarzunw@udd.cl, \n",
        "    -  Enviar por correo con el asunto: Tarea taller serie de tiempo IDS,  nombre apellido\n",
        "    -  El notebook debe tener el nombre: Notebook- taller-alicacion-nombre-apellido.ipnyb, \n",
        "    -  Tambien puede enviarme un link en github si está publico o me concede acceso.\n",
        "    -  En caso que necesite una extensión, hasta el sabado 18 23.59 hrs, debe avisarme los intgrantes y una justificación por correo.\n",
        "\n",
        "# Evaluación:\n",
        "\n",
        "El taller será evaluado con nota 1 a 7, en base al notebook enviado. La pauta de evaluación es la siguiente:\n",
        "\n",
        "- Punto base (1pt)\n",
        "- Entrega a tiempo y ordenada (1pt)\n",
        "- Entrega completa de la actividad desarrollada, independiente de los resultadps (2pts)\n",
        "- Resultados correctos (2pts)\n",
        "- Integridad del codigo: Se refiere a que el codigo se pueda ejecutar sin intervencion del docente (1pts)\n",
        "\n",
        "# Generalidades\n",
        "\n",
        "**Resultado de aprendizaje esperado:**\n",
        "\n",
        "1. Identificar datos de series temporales y sus particularidades, para entender posibles aplicaciones profesionales.\n",
        "\n",
        "2. Describir exploratoriamente una serie temporal, para extraer características claves del fenómeno que permita su modelamiento.\n",
        "\n",
        "3. Modelar series temporales, evaluando alternativas.\n",
        "\n",
        "\n",
        "**Bibliografía recomendada:**\n",
        "\n",
        "Stock & Watson, C.14 [link](https://www.dropbox.com/s/d09qcat340jy5q2/stock%20y%20watson%20-%20Introduccion%20a%20la%20Econometria.pdf?dl=0) ; Wooldridge, c.12 [link](https://www.dropbox.com/s/wrh0tuna27qp747/Wooldridge__Introductory_Econometrics_2nd_Ed_Solutions.pdf?dl=0), Gujarati, c.12  [link](https://www.dropbox.com/s/rrvth8vsa1c5gts/Gujarati-cap%2012.pdf?dl=0)\n",
        "\n",
        "**Material de apoyo***\n",
        "\n",
        "El taller cuenta con un repositorio  [https://github.com/melanieoyarzun/taller_IDS2021](https://github.com/melanieoyarzun/taller_IDS2021) en el cual está dispoinible todo el material.\n",
        "\n"
      ]
    },
    {
      "cell_type": "code",
      "execution_count": 1,
      "metadata": {
        "colab": {
          "base_uri": "https://localhost:8080/",
          "height": 52
        },
        "id": "-4ig71S38ukA",
        "outputId": "b955d712-5362-4889-c930-d77d0a0174bb"
      },
      "outputs": [
        {
          "output_type": "execute_result",
          "data": {
            "text/plain": [
              "<Figure size 1000x600 with 0 Axes>"
            ]
          },
          "metadata": {},
          "execution_count": 1
        },
        {
          "output_type": "display_data",
          "data": {
            "text/plain": [
              "<Figure size 1000x600 with 0 Axes>"
            ]
          },
          "metadata": {}
        }
      ],
      "source": [
        "# Paquetes y settings recomendados, pero puedes cambiar lo que quieras\n",
        "\n",
        "from dateutil.parser import parse \n",
        "import matplotlib as mpl\n",
        "import matplotlib.pyplot as plt\n",
        "import seaborn as sns\n",
        "import numpy as np\n",
        "import pandas as pd\n",
        "#import watermark\n",
        "\n",
        "\n",
        "import sklearn\n",
        "from sklearn.linear_model import LinearRegression\n",
        "\n",
        "import scipy\n",
        "from scipy import stats\n",
        "\n",
        "#%matplotlib inline\n",
        "#%load_ext watermark\n",
        "\n",
        "# setting de graficos\n",
        "\n",
        "plt.figure(figsize=(5,3), dpi= 200, facecolor='w', edgecolor='k')\n",
        "\n"
      ]
    },
    {
      "cell_type": "code",
      "execution_count": null,
      "metadata": {
        "id": "V5sv_AHD8ukD",
        "outputId": "21674f45-2f41-4b83-e4dd-361594a1c130"
      },
      "outputs": [
        {
          "name": "stdout",
          "output_type": "stream",
          "text": [
            "Python implementation: CPython\n",
            "Python version       : 3.9.7\n",
            "IPython version      : 7.29.0\n",
            "\n",
            "Compiler    : Clang 10.0.0 \n",
            "OS          : Darwin\n",
            "Release     : 20.6.0\n",
            "Machine     : x86_64\n",
            "Processor   : i386\n",
            "CPU cores   : 4\n",
            "Architecture: 64bit\n",
            "\n",
            "Git hash: 236f2a65a25f3435e36c36c6f1b5909c14abea8e\n",
            "\n",
            "seaborn   : 0.11.2\n",
            "numpy     : 1.20.3\n",
            "pandas    : 1.3.4\n",
            "matplotlib: 3.4.3\n",
            "sys       : 3.9.7 (default, Sep 16 2021, 08:50:36) \n",
            "[Clang 10.0.0 ]\n",
            "sklearn   : 0.24.2\n",
            "scipy     : 1.7.1\n",
            "watermark : 2.2.0\n",
            "\n"
          ]
        }
      ],
      "source": [
        "%watermark -n -v -m -g -iv"
      ]
    },
    {
      "cell_type": "markdown",
      "metadata": {
        "id": "2VPpBOBO8ukG"
      },
      "source": [
        "# Actividad Bloque 1:\n",
        "\n",
        "1. Siga este ejemplo practico de importar datos desde la API del Banco Mundial y preparar la base para su análisis de series de tiempo.\n",
        "2. Importe usted la serie de GDP total Y Percapita para otro país serie desde la API del Banco mundial, muestre sus principales características y realice un grafico. \n",
        "3. Obtenga las primeras diferencias y compare, ¿pareciera haber tendencias?\n"
      ]
    },
    {
      "cell_type": "code",
      "source": [
        "df = pd.read_csv(\"/avocado_prices.txt\" )\n",
        "df.head()"
      ],
      "metadata": {
        "colab": {
          "base_uri": "https://localhost:8080/",
          "height": 357
        },
        "id": "1iT6phId86Bm",
        "outputId": "1fc8de18-2fce-4839-9d9e-0a79e0c9a155"
      },
      "execution_count": 2,
      "outputs": [
        {
          "output_type": "execute_result",
          "data": {
            "text/plain": [
              "         Date  average_price  small_hass_volume  large_hass_volume  \\\n",
              "0  2015-12-27           1.33            1036.74           54454.85   \n",
              "1  2015-12-20           1.35             674.28           44638.81   \n",
              "2  2015-12-13           0.93             794.70          109149.67   \n",
              "3  2015-12-06           1.08            1132.00           71976.41   \n",
              "4  2015-11-29           1.28             941.48           43838.39   \n",
              "\n",
              "   extra_l_hass_volume          type    yr  region  wk  \n",
              "0                48.16  conventional  2015  Albany  52  \n",
              "1                58.33  conventional  2015  Albany  51  \n",
              "2               130.50  conventional  2015  Albany  50  \n",
              "3                72.58  conventional  2015  Albany  49  \n",
              "4                75.78  conventional  2015  Albany  48  "
            ],
            "text/html": [
              "\n",
              "  <div id=\"df-7e3b834f-83ae-4dad-803d-2941ec3cd757\">\n",
              "    <div class=\"colab-df-container\">\n",
              "      <div>\n",
              "<style scoped>\n",
              "    .dataframe tbody tr th:only-of-type {\n",
              "        vertical-align: middle;\n",
              "    }\n",
              "\n",
              "    .dataframe tbody tr th {\n",
              "        vertical-align: top;\n",
              "    }\n",
              "\n",
              "    .dataframe thead th {\n",
              "        text-align: right;\n",
              "    }\n",
              "</style>\n",
              "<table border=\"1\" class=\"dataframe\">\n",
              "  <thead>\n",
              "    <tr style=\"text-align: right;\">\n",
              "      <th></th>\n",
              "      <th>Date</th>\n",
              "      <th>average_price</th>\n",
              "      <th>small_hass_volume</th>\n",
              "      <th>large_hass_volume</th>\n",
              "      <th>extra_l_hass_volume</th>\n",
              "      <th>type</th>\n",
              "      <th>yr</th>\n",
              "      <th>region</th>\n",
              "      <th>wk</th>\n",
              "    </tr>\n",
              "  </thead>\n",
              "  <tbody>\n",
              "    <tr>\n",
              "      <th>0</th>\n",
              "      <td>2015-12-27</td>\n",
              "      <td>1.33</td>\n",
              "      <td>1036.74</td>\n",
              "      <td>54454.85</td>\n",
              "      <td>48.16</td>\n",
              "      <td>conventional</td>\n",
              "      <td>2015</td>\n",
              "      <td>Albany</td>\n",
              "      <td>52</td>\n",
              "    </tr>\n",
              "    <tr>\n",
              "      <th>1</th>\n",
              "      <td>2015-12-20</td>\n",
              "      <td>1.35</td>\n",
              "      <td>674.28</td>\n",
              "      <td>44638.81</td>\n",
              "      <td>58.33</td>\n",
              "      <td>conventional</td>\n",
              "      <td>2015</td>\n",
              "      <td>Albany</td>\n",
              "      <td>51</td>\n",
              "    </tr>\n",
              "    <tr>\n",
              "      <th>2</th>\n",
              "      <td>2015-12-13</td>\n",
              "      <td>0.93</td>\n",
              "      <td>794.70</td>\n",
              "      <td>109149.67</td>\n",
              "      <td>130.50</td>\n",
              "      <td>conventional</td>\n",
              "      <td>2015</td>\n",
              "      <td>Albany</td>\n",
              "      <td>50</td>\n",
              "    </tr>\n",
              "    <tr>\n",
              "      <th>3</th>\n",
              "      <td>2015-12-06</td>\n",
              "      <td>1.08</td>\n",
              "      <td>1132.00</td>\n",
              "      <td>71976.41</td>\n",
              "      <td>72.58</td>\n",
              "      <td>conventional</td>\n",
              "      <td>2015</td>\n",
              "      <td>Albany</td>\n",
              "      <td>49</td>\n",
              "    </tr>\n",
              "    <tr>\n",
              "      <th>4</th>\n",
              "      <td>2015-11-29</td>\n",
              "      <td>1.28</td>\n",
              "      <td>941.48</td>\n",
              "      <td>43838.39</td>\n",
              "      <td>75.78</td>\n",
              "      <td>conventional</td>\n",
              "      <td>2015</td>\n",
              "      <td>Albany</td>\n",
              "      <td>48</td>\n",
              "    </tr>\n",
              "  </tbody>\n",
              "</table>\n",
              "</div>\n",
              "      <button class=\"colab-df-convert\" onclick=\"convertToInteractive('df-7e3b834f-83ae-4dad-803d-2941ec3cd757')\"\n",
              "              title=\"Convert this dataframe to an interactive table.\"\n",
              "              style=\"display:none;\">\n",
              "        \n",
              "  <svg xmlns=\"http://www.w3.org/2000/svg\" height=\"24px\"viewBox=\"0 0 24 24\"\n",
              "       width=\"24px\">\n",
              "    <path d=\"M0 0h24v24H0V0z\" fill=\"none\"/>\n",
              "    <path d=\"M18.56 5.44l.94 2.06.94-2.06 2.06-.94-2.06-.94-.94-2.06-.94 2.06-2.06.94zm-11 1L8.5 8.5l.94-2.06 2.06-.94-2.06-.94L8.5 2.5l-.94 2.06-2.06.94zm10 10l.94 2.06.94-2.06 2.06-.94-2.06-.94-.94-2.06-.94 2.06-2.06.94z\"/><path d=\"M17.41 7.96l-1.37-1.37c-.4-.4-.92-.59-1.43-.59-.52 0-1.04.2-1.43.59L10.3 9.45l-7.72 7.72c-.78.78-.78 2.05 0 2.83L4 21.41c.39.39.9.59 1.41.59.51 0 1.02-.2 1.41-.59l7.78-7.78 2.81-2.81c.8-.78.8-2.07 0-2.86zM5.41 20L4 18.59l7.72-7.72 1.47 1.35L5.41 20z\"/>\n",
              "  </svg>\n",
              "      </button>\n",
              "      \n",
              "  <style>\n",
              "    .colab-df-container {\n",
              "      display:flex;\n",
              "      flex-wrap:wrap;\n",
              "      gap: 12px;\n",
              "    }\n",
              "\n",
              "    .colab-df-convert {\n",
              "      background-color: #E8F0FE;\n",
              "      border: none;\n",
              "      border-radius: 50%;\n",
              "      cursor: pointer;\n",
              "      display: none;\n",
              "      fill: #1967D2;\n",
              "      height: 32px;\n",
              "      padding: 0 0 0 0;\n",
              "      width: 32px;\n",
              "    }\n",
              "\n",
              "    .colab-df-convert:hover {\n",
              "      background-color: #E2EBFA;\n",
              "      box-shadow: 0px 1px 2px rgba(60, 64, 67, 0.3), 0px 1px 3px 1px rgba(60, 64, 67, 0.15);\n",
              "      fill: #174EA6;\n",
              "    }\n",
              "\n",
              "    [theme=dark] .colab-df-convert {\n",
              "      background-color: #3B4455;\n",
              "      fill: #D2E3FC;\n",
              "    }\n",
              "\n",
              "    [theme=dark] .colab-df-convert:hover {\n",
              "      background-color: #434B5C;\n",
              "      box-shadow: 0px 1px 3px 1px rgba(0, 0, 0, 0.15);\n",
              "      filter: drop-shadow(0px 1px 2px rgba(0, 0, 0, 0.3));\n",
              "      fill: #FFFFFF;\n",
              "    }\n",
              "  </style>\n",
              "\n",
              "      <script>\n",
              "        const buttonEl =\n",
              "          document.querySelector('#df-7e3b834f-83ae-4dad-803d-2941ec3cd757 button.colab-df-convert');\n",
              "        buttonEl.style.display =\n",
              "          google.colab.kernel.accessAllowed ? 'block' : 'none';\n",
              "\n",
              "        async function convertToInteractive(key) {\n",
              "          const element = document.querySelector('#df-7e3b834f-83ae-4dad-803d-2941ec3cd757');\n",
              "          const dataTable =\n",
              "            await google.colab.kernel.invokeFunction('convertToInteractive',\n",
              "                                                     [key], {});\n",
              "          if (!dataTable) return;\n",
              "\n",
              "          const docLinkHtml = 'Like what you see? Visit the ' +\n",
              "            '<a target=\"_blank\" href=https://colab.research.google.com/notebooks/data_table.ipynb>data table notebook</a>'\n",
              "            + ' to learn more about interactive tables.';\n",
              "          element.innerHTML = '';\n",
              "          dataTable['output_type'] = 'display_data';\n",
              "          await google.colab.output.renderOutput(dataTable, element);\n",
              "          const docLink = document.createElement('div');\n",
              "          docLink.innerHTML = docLinkHtml;\n",
              "          element.appendChild(docLink);\n",
              "        }\n",
              "      </script>\n",
              "    </div>\n",
              "  </div>\n",
              "  "
            ]
          },
          "metadata": {},
          "execution_count": 2
        }
      ]
    },
    {
      "cell_type": "markdown",
      "metadata": {
        "id": "pFWLcAHZ8ukG"
      },
      "source": [
        "# Actividad Bloque 2: \n",
        "\n",
        "Considere el mecanismo para extraer datos de la sección anterior. Elija un país a analizar y realice las siguientes operaciones.\n",
        "\n",
        "1. Calule $y_t=ln(GDP_t)$, que es el logaritmo del PIB real y $\\Delta y_t$ como la tasa de crecimiento anual del PIB para el periodo. \n",
        "2. Estime la media de $\\Delta y_t$\n",
        "3. Estme la desviación estandar de $\\Delta y_t$\n",
        "4. Estime las cuatro primeras autocorrelaciones de $\\Delta y_t$, ¿cuales son las unidades de medidas de estas autocorrelaciones?\n",
        "5. Estime un modelo AR(1) para $\\Delta y_t$. ¿Cual es el coeficiente para el vector autorregresivo? ¿Es estadisticamente significativo? Construya un intervalo de confianza para el estimador poblacional.\n",
        "6. Estime un modelo AR(2) para $\\Delta y_t$. ¿Cual es el coeficiente para el vector autorregresivo? ¿Es estadisticamente significativo? Construya un intervalo de confianza para el estimador poblacional.\n",
        "7. Estime un modelo AR(3) y AR(4) para $\\Delta y_t$. Utilice el criterio BIC y AIC para elegir el numero de rezagos.\n",
        "8. Utilice un estadístico de Dickey- FUlller aumentado para contrastar la presencia de raiz unitaria. Como alternativa, suponga que Y es estacionaria al rededor de una detendecia determinística.\n",
        "9.  Identifique la tendencia y posible estacionalidad y haga la descomposción grafica.\n",
        "10. ¿Podría existir un quiebre estructural en 2009? ¿Cómo lo probaría?\n"
      ]
    }
  ],
  "metadata": {
    "interpreter": {
      "hash": "aee8b7b246df8f9039afb4144a1f6fd8d2ca17a180786b69acc140d282b71a49"
    },
    "kernelspec": {
      "display_name": "Python 3.9.9 64-bit",
      "language": "python",
      "name": "python3"
    },
    "language_info": {
      "codemirror_mode": {
        "name": "ipython",
        "version": 3
      },
      "file_extension": ".py",
      "mimetype": "text/x-python",
      "name": "python",
      "nbconvert_exporter": "python",
      "pygments_lexer": "ipython3",
      "version": "3.9.1"
    },
    "orig_nbformat": 4,
    "colab": {
      "provenance": []
    }
  },
  "nbformat": 4,
  "nbformat_minor": 0
}